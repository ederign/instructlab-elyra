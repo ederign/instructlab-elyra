{
 "cells": [
  {
   "cell_type": "code",
   "execution_count": 1,
   "id": "111f49b3-ecfc-46a5-bd72-c16d001277d0",
   "metadata": {},
   "outputs": [
    {
     "name": "stdout",
     "output_type": "stream",
     "text": [
      "Hybrid Chunker for SDG\n"
     ]
    }
   ],
   "source": [
    "print(\"Hybrid Chunker for SDG\")"
   ]
  },
  {
   "cell_type": "code",
   "execution_count": null,
   "id": "211d4e79-025a-493d-aa6b-7276ac4fa767",
   "metadata": {},
   "outputs": [],
   "source": []
  }
 ],
 "metadata": {
  "kernelspec": {
   "display_name": "Python 3.11",
   "language": "python",
   "name": "python3"
  },
  "language_info": {
   "codemirror_mode": {
    "name": "ipython",
    "version": 3
   },
   "file_extension": ".py",
   "mimetype": "text/x-python",
   "name": "python",
   "nbconvert_exporter": "python",
   "pygments_lexer": "ipython3",
   "version": "3.11.7"
  }
 },
 "nbformat": 4,
 "nbformat_minor": 5
}
