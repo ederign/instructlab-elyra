{
 "cells": [
  {
   "cell_type": "code",
   "execution_count": 1,
   "id": "e01676e1-aab8-4766-8bd4-2df0588c9523",
   "metadata": {},
   "outputs": [
    {
     "name": "stdout",
     "output_type": "stream",
     "text": [
      "DeepEval\n"
     ]
    }
   ],
   "source": [
    "print(\"DeepEval\")"
   ]
  },
  {
   "cell_type": "code",
   "execution_count": null,
   "id": "4fc07674-9b98-43bb-a222-f1d82b2f160a",
   "metadata": {},
   "outputs": [],
   "source": []
  }
 ],
 "metadata": {
  "kernelspec": {
   "display_name": "Python 3.11",
   "language": "python",
   "name": "python3"
  },
  "language_info": {
   "codemirror_mode": {
    "name": "ipython",
    "version": 3
   },
   "file_extension": ".py",
   "mimetype": "text/x-python",
   "name": "python",
   "nbconvert_exporter": "python",
   "pygments_lexer": "ipython3",
   "version": "3.11.7"
  }
 },
 "nbformat": 4,
 "nbformat_minor": 5
}
