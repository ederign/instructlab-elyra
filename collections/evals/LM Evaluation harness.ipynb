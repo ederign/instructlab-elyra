{
 "cells": [
  {
   "cell_type": "code",
   "execution_count": 1,
   "id": "b6c026a1-2ad7-4ef4-8d94-73495173ca57",
   "metadata": {},
   "outputs": [
    {
     "name": "stdout",
     "output_type": "stream",
     "text": [
      "LM evaluation harness\n"
     ]
    }
   ],
   "source": [
    "print(\"LM evaluation harness\")"
   ]
  },
  {
   "cell_type": "code",
   "execution_count": null,
   "id": "dbdcf00a-68f3-45dd-b490-69f9f92ea3f4",
   "metadata": {},
   "outputs": [],
   "source": []
  }
 ],
 "metadata": {
  "kernelspec": {
   "display_name": "Python 3.11",
   "language": "python",
   "name": "python3"
  },
  "language_info": {
   "codemirror_mode": {
    "name": "ipython",
    "version": 3
   },
   "file_extension": ".py",
   "mimetype": "text/x-python",
   "name": "python",
   "nbconvert_exporter": "python",
   "pygments_lexer": "ipython3",
   "version": "3.11.7"
  }
 },
 "nbformat": 4,
 "nbformat_minor": 5
}
