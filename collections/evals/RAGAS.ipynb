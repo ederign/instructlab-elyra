{
 "cells": [
  {
   "cell_type": "code",
   "execution_count": 2,
   "id": "d3239aaa-02e2-40df-aa14-f59d5fce4aec",
   "metadata": {},
   "outputs": [
    {
     "name": "stdout",
     "output_type": "stream",
     "text": [
      "RAGAS\n"
     ]
    }
   ],
   "source": [
    "print(\"RAGAS\")"
   ]
  },
  {
   "cell_type": "code",
   "execution_count": null,
   "id": "78f24d44-1be0-46bf-9672-955fcef0a9ea",
   "metadata": {},
   "outputs": [],
   "source": []
  }
 ],
 "metadata": {
  "kernelspec": {
   "display_name": "Python 3.11",
   "language": "python",
   "name": "python3"
  },
  "language_info": {
   "codemirror_mode": {
    "name": "ipython",
    "version": 3
   },
   "file_extension": ".py",
   "mimetype": "text/x-python",
   "name": "python",
   "nbconvert_exporter": "python",
   "pygments_lexer": "ipython3",
   "version": "3.11.7"
  }
 },
 "nbformat": 4,
 "nbformat_minor": 5
}
