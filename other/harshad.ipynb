{
 "cells": [
  {
   "cell_type": "code",
   "execution_count": 1,
   "id": "da52f24f-041b-4299-8e88-099caba38676",
   "metadata": {},
   "outputs": [
    {
     "name": "stdout",
     "output_type": "stream",
     "text": [
      "harshad is the best\n"
     ]
    }
   ],
   "source": [
    "print(\"harshad is the best\")"
   ]
  },
  {
   "cell_type": "code",
   "execution_count": null,
   "id": "c3c5393b-4751-4916-8d96-3c066720d1f6",
   "metadata": {},
   "outputs": [],
   "source": []
  }
 ],
 "metadata": {
  "kernelspec": {
   "display_name": "Python 3.11",
   "language": "python",
   "name": "python3"
  },
  "language_info": {
   "codemirror_mode": {
    "name": "ipython",
    "version": 3
   },
   "file_extension": ".py",
   "mimetype": "text/x-python",
   "name": "python",
   "nbconvert_exporter": "python",
   "pygments_lexer": "ipython3",
   "version": "3.11.7"
  }
 },
 "nbformat": 4,
 "nbformat_minor": 5
}
